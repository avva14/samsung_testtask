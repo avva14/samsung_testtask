{
 "cells": [
  {
   "cell_type": "code",
   "execution_count": 1,
   "id": "119e7a7d",
   "metadata": {},
   "outputs": [],
   "source": [
    "import os\n",
    "import json"
   ]
  },
  {
   "cell_type": "code",
   "execution_count": 2,
   "id": "ed2820be",
   "metadata": {},
   "outputs": [
    {
     "data": {
      "text/plain": [
       "'2.6.0'"
      ]
     },
     "execution_count": 2,
     "metadata": {},
     "output_type": "execute_result"
    }
   ],
   "source": [
    "import tensorflow as tf\n",
    "tf.__version__"
   ]
  },
  {
   "cell_type": "code",
   "execution_count": 3,
   "id": "4ded9dfb",
   "metadata": {},
   "outputs": [],
   "source": [
    "#images split into 256x256x3 pieces\n",
    "NUMR = 256"
   ]
  },
  {
   "cell_type": "code",
   "execution_count": null,
   "id": "29b80252",
   "metadata": {},
   "outputs": [],
   "source": []
  },
  {
   "cell_type": "code",
   "execution_count": 4,
   "id": "9a4c2665",
   "metadata": {},
   "outputs": [],
   "source": [
    "trainset = tf.data.Dataset.list_files(r\"train/short/*.bin\", shuffle=True)\n",
    "testset = tf.data.Dataset.list_files(r\"val/short/*.bin\")"
   ]
  },
  {
   "cell_type": "code",
   "execution_count": 6,
   "id": "467b4159",
   "metadata": {},
   "outputs": [],
   "source": [
    "def processfile(f):\n",
    "    '''\n",
    "    Data pair\n",
    "    '''    \n",
    "    g = tf.strings.split(f, sep='/')\n",
    "    z = tf.strings.join([g[0], 'medium', g[2]], separator='/')\n",
    "    shortdat = tf.io.read_file(f)\n",
    "    shortdat = tf.io.decode_raw(shortdat, tf.uint8)\n",
    "    shortdat = tf.cast(shortdat, tf.float32) / 255\n",
    "    shortdat = tf.reshape(shortdat, (NUMR,NUMR,3))\n",
    "    meddat = tf.io.read_file(z)\n",
    "    meddat = tf.io.decode_raw(meddat, tf.uint8)\n",
    "    meddat = tf.cast(meddat, tf.float32) / 255\n",
    "    meddat = tf.reshape(meddat, (NUMR,NUMR,3))\n",
    "    return shortdat, meddat"
   ]
  },
  {
   "cell_type": "code",
   "execution_count": 7,
   "id": "f1268dd5",
   "metadata": {},
   "outputs": [],
   "source": [
    "datset = trainset.map(processfile)\n",
    "valset = testset.map(processfile)"
   ]
  },
  {
   "cell_type": "code",
   "execution_count": null,
   "id": "c8b38100",
   "metadata": {},
   "outputs": [],
   "source": []
  },
  {
   "cell_type": "code",
   "execution_count": 10,
   "id": "ac18194c",
   "metadata": {},
   "outputs": [],
   "source": [
    "def safepowneg(x):\n",
    "    return tf.pow(tf.abs(x),1/3)\n",
    "def safepowpos(x):\n",
    "    return tf.pow(tf.abs(x),2.4)\n",
    "\n",
    "def labconvert(rgb):\n",
    "    '''\n",
    "    RGB to LAB (Standard Illuminant D65)\n",
    "    '''\n",
    "    matrix = tf.constant([[0.43388193, 0.37622739, 0.18990225],\n",
    "       [0.2126    , 0.7152    , 0.0722    ],\n",
    "       [0.01772529, 0.1094743 , 0.87294736]], dtype=tf.float32)\n",
    "    shmatrix = tf.constant([[0, 116, 0], [500, -500, 0], [0, 200, -200]], dtype=tf.float32)\n",
    "    val1 = tf.constant(0.04045, dtype=tf.float32)\n",
    "    val2 = tf.constant(0.008856451679035631, dtype=tf.float32)\n",
    "\n",
    "    p = tf.clip_by_value(rgb, clip_value_min=0, clip_value_max=1)\n",
    "    f = tf.where(p <= val1, 0.07739938080495357 * p, safepowpos(0.9478672985781991 * (p + 0.055)))\n",
    "    x = tf.einsum('ij,...j->...i', matrix, f)\n",
    "    die = tf.where(x > val2, safepowneg(x), 0.13793103448275862 + 7.787037037037036 * x)\n",
    "    fie = tf.einsum('ij,...j->...i', shmatrix, die)\n",
    "    return fie"
   ]
  },
  {
   "cell_type": "code",
   "execution_count": 12,
   "id": "cd8c4fc3",
   "metadata": {},
   "outputs": [],
   "source": [
    "def labconvertL(rgb):\n",
    "    matrix = tf.constant([[0.2126    , 0.7152    , 0.0722    ]], dtype=tf.float32)\n",
    "    val1 = tf.constant(0.04045, dtype=tf.float32)\n",
    "    val2 = tf.constant(0.008856451679035631, dtype=tf.float32)\n",
    "    \n",
    "    p = tf.clip_by_value(rgb, clip_value_min=0, clip_value_max=1)\n",
    "    f = tf.where(p <= val1, 0.07739938080495357 * p, safepowpos(0.9478672985781991 * (p + 0.055)))\n",
    "    x = tf.einsum('ij,...j->...i', matrix, f)\n",
    "    die = tf.where(x > val2, safepowneg(x), 0.13793103448275862 + 7.787037037037036 * x)\n",
    "    fie = 116 * die - 16\n",
    "    return fie"
   ]
  },
  {
   "cell_type": "code",
   "execution_count": 18,
   "id": "7231c63a",
   "metadata": {},
   "outputs": [],
   "source": [
    "import keras"
   ]
  },
  {
   "cell_type": "code",
   "execution_count": 19,
   "id": "94367c3b",
   "metadata": {},
   "outputs": [],
   "source": [
    "from keras.models import Model\n",
    "from keras.layers import Input, Conv2D, MaxPooling2D, GlobalAveragePooling2D, Dense, Lambda"
   ]
  },
  {
   "cell_type": "code",
   "execution_count": 20,
   "id": "b7a81909",
   "metadata": {},
   "outputs": [],
   "source": [
    "from keras.layers import Add, Concatenate"
   ]
  },
  {
   "cell_type": "code",
   "execution_count": 21,
   "id": "c14957b6",
   "metadata": {},
   "outputs": [],
   "source": [
    "import tensorflow.keras.backend as K"
   ]
  },
  {
   "cell_type": "code",
   "execution_count": 22,
   "id": "172dc2f3",
   "metadata": {},
   "outputs": [],
   "source": [
    "def mean_ssim(y_true, y_pred):\n",
    "    lab_true = labconvert(y_true)\n",
    "    lab_pred = labconvert(y_pred)\n",
    "    return tf.image.ssim_multiscale(lab_true,lab_pred,255)"
   ]
  },
  {
   "cell_type": "code",
   "execution_count": 63,
   "id": "63ae7d46",
   "metadata": {},
   "outputs": [],
   "source": [
    "def mean_ssimL(y_true, y_pred):\n",
    "    lab_true = labconvertL(y_true)\n",
    "    lab_pred = labconvertL(y_pred)\n",
    "    return tf.image.ssim_multiscale(lab_true,lab_pred,100)"
   ]
  },
  {
   "cell_type": "code",
   "execution_count": 24,
   "id": "bb3f1a71",
   "metadata": {},
   "outputs": [],
   "source": [
    "def mean_psnr(y_true, y_pred):\n",
    "    return tf.image.psnr(y_true, y_pred, 2)"
   ]
  },
  {
   "cell_type": "code",
   "execution_count": 25,
   "id": "01b1e8c1",
   "metadata": {},
   "outputs": [],
   "source": [
    "def custom_loss_1(y_true, y_pred):\n",
    "    '''\n",
    "    l1 loss\n",
    "    '''\n",
    "    lab_true = labconvert(y_true)\n",
    "    lab_pred = labconvert(y_pred)\n",
    "    loss = K.mean(K.abs(lab_true-lab_pred))\n",
    "    return loss"
   ]
  },
  {
   "cell_type": "code",
   "execution_count": 64,
   "id": "472d9ef6",
   "metadata": {},
   "outputs": [],
   "source": [
    "def custom_loss_2(y_true, y_pred):\n",
    "    '''\n",
    "    Loss with ssim_multiscale -- fails to converge :(\n",
    "    '''\n",
    "    lab_true = labconvert(y_true)\n",
    "    lab_pred = labconvert(y_pred)\n",
    "    maeloss = K.mean(K.abs(lab_true-lab_pred))\n",
    "    \n",
    "    lab_trueL = labconvertL(y_true)\n",
    "    lab_predL = labconvertL(y_pred)\n",
    "    \n",
    "    ssimloss = 1-tf.image.ssim_multiscale(lab_trueL,lab_predL,100)\n",
    "    return maeloss+ssimloss"
   ]
  },
  {
   "cell_type": "code",
   "execution_count": 27,
   "id": "83707c76",
   "metadata": {},
   "outputs": [],
   "source": [
    "def lowlevelblock(inputdata, prefix, previous=None):\n",
    "    '''\n",
    "    Low-level\n",
    "    '''\n",
    "    if (previous == None):\n",
    "        x = inputdata\n",
    "    else:\n",
    "        x = Concatenate(name=f'concat_{prefix}')([inputdata, previous])\n",
    "    x = Conv2D(filters=61,\n",
    "               kernel_size=(3, 3),\n",
    "               activation='relu',\n",
    "               padding='same',\n",
    "               strides=(1,1),\n",
    "               name=f'll_relu_{prefix}')(x)\n",
    "    y = Conv2D(filters=3,\n",
    "               kernel_size=(3, 3),\n",
    "               activation='tanh',\n",
    "               padding='same',\n",
    "               strides=(1,1),\n",
    "               name=f'll_th_{prefix}')(x)\n",
    "    img = Add(name=f'll_add_{prefix}')([inputdata, y])\n",
    "    return img, x   "
   ]
  },
  {
   "cell_type": "code",
   "execution_count": 28,
   "id": "63fe18d7",
   "metadata": {},
   "outputs": [],
   "source": [
    "def highlevelblock(inputdata, prefix):\n",
    "    '''\n",
    "    High-level\n",
    "    '''\n",
    "    \n",
    "    x = Conv2D(filters=64,\n",
    "               kernel_size=(3, 3),\n",
    "               activation='relu',\n",
    "               padding='same',\n",
    "               strides=(2,2),\n",
    "               name=f'hl_conv_{prefix}')(inputdata)\n",
    "    x = MaxPooling2D(pool_size=(2,2),name=f'hl_pool_{prefix}')(x)\n",
    "\n",
    "    return x"
   ]
  },
  {
   "cell_type": "code",
   "execution_count": 29,
   "id": "59c28c92",
   "metadata": {},
   "outputs": [],
   "source": [
    "def comp(x):\n",
    "    '''\n",
    "    bilinear transformation\n",
    "    '''\n",
    "    a = x[0]\n",
    "    b = x[1]\n",
    "    c = tf.einsum('aik,apkj,aij->aip', b, a, b)\n",
    "    return c\n",
    "\n",
    "def mxmake(m):\n",
    "    '''\n",
    "    Three 4x4 matrices from one 30-component vector \n",
    "    '''\n",
    "    cc = tf.reshape(m,(-1,3,10))\n",
    "    ee = tf.constant([\n",
    "        [[1,0,0,0],[0,0,0,0],[0,0,0,0],[0,0,0,0]],\n",
    "        [[0,1,0,0],[0,0,0,0],[0,0,0,0],[0,0,0,0]],\n",
    "        [[0,0,1,0],[0,0,0,0],[0,0,0,0],[0,0,0,0]],\n",
    "        [[0,0,0,1],[0,0,0,0],[0,0,0,0],[0,0,0,0]],\n",
    "        [[0,0,0,0],[0,1,0,0],[0,0,0,0],[0,0,0,0]],\n",
    "        [[0,0,0,0],[0,0,1,0],[0,0,0,0],[0,0,0,0]],\n",
    "        [[0,0,0,0],[0,0,0,1],[0,0,0,0],[0,0,0,0]],\n",
    "        [[0,0,0,0],[0,0,0,0],[0,0,1,0],[0,0,0,0]],\n",
    "        [[0,0,0,0],[0,0,0,0],[0,0,0,1],[0,0,0,0]],\n",
    "        [[0,0,0,0],[0,0,0,0],[0,0,0,0],[0,0,0,1]]\n",
    "    ], dtype=tf.float32)\n",
    "    mx = tf.einsum('...j,jkl->...kl',cc,ee)\n",
    "    return mx\n",
    "\n",
    "def vecmake(x):\n",
    "    '''\n",
    "    Extending vector with a constant \n",
    "    '''\n",
    "    return tf.pad(x, tf.constant([[0,0],[0,0],[0,1]]), \"CONSTANT\", constant_values=1)"
   ]
  },
  {
   "cell_type": "markdown",
   "id": "f33d488e",
   "metadata": {},
   "source": [
    "### Defining model"
   ]
  },
  {
   "cell_type": "code",
   "execution_count": 30,
   "id": "d740460f",
   "metadata": {},
   "outputs": [],
   "source": [
    "input_img = Input(shape=(NUMR, NUMR, 3))\n",
    "\n",
    "img = input_img\n",
    "out = None\n",
    "\n",
    "for lowstage in range(10):\n",
    "    img, out = lowlevelblock(img, lowstage, out)\n",
    "\n",
    "for highstage in range(4):\n",
    "    out = highlevelblock(out, highstage)\n",
    "\n",
    "out = GlobalAveragePooling2D(name=\"hl_glob_pool\")(out)\n",
    "out = Dense(30, name=\"dense\")(out)\n",
    "\n",
    "out = Lambda(lambda x:mxmake(x), name=\"lambda4x4\")(out)\n",
    "\n",
    "img = tf.keras.layers.Reshape((NUMR*NUMR,3), name=\"reshape_1\")(img)\n",
    "img = Lambda(lambda x:vecmake(x), name=\"lambda_addconst\")(img)\n",
    "res = Lambda(lambda x:comp(x), name=\"lambda_bilinear\")((out,img))\n",
    "res = tf.keras.layers.Reshape((NUMR,NUMR,3), name=\"reshape_2\")(res)\n",
    "\n",
    "model = Model(input_img, res, name=\"coder\")"
   ]
  },
  {
   "cell_type": "code",
   "execution_count": 31,
   "id": "8a79e284",
   "metadata": {
    "scrolled": false
   },
   "outputs": [
    {
     "name": "stdout",
     "output_type": "stream",
     "text": [
      "Model: \"coder\"\n",
      "__________________________________________________________________________________________________\n",
      "Layer (type)                    Output Shape         Param #     Connected to                     \n",
      "==================================================================================================\n",
      "input_1 (InputLayer)            [(None, 256, 256, 3) 0                                            \n",
      "__________________________________________________________________________________________________\n",
      "ll_relu_0 (Conv2D)              (None, 256, 256, 61) 1708        input_1[0][0]                    \n",
      "__________________________________________________________________________________________________\n",
      "ll_th_0 (Conv2D)                (None, 256, 256, 3)  1650        ll_relu_0[0][0]                  \n",
      "__________________________________________________________________________________________________\n",
      "ll_add_0 (Add)                  (None, 256, 256, 3)  0           input_1[0][0]                    \n",
      "                                                                 ll_th_0[0][0]                    \n",
      "__________________________________________________________________________________________________\n",
      "concat_1 (Concatenate)          (None, 256, 256, 64) 0           ll_add_0[0][0]                   \n",
      "                                                                 ll_relu_0[0][0]                  \n",
      "__________________________________________________________________________________________________\n",
      "ll_relu_1 (Conv2D)              (None, 256, 256, 61) 35197       concat_1[0][0]                   \n",
      "__________________________________________________________________________________________________\n",
      "ll_th_1 (Conv2D)                (None, 256, 256, 3)  1650        ll_relu_1[0][0]                  \n",
      "__________________________________________________________________________________________________\n",
      "ll_add_1 (Add)                  (None, 256, 256, 3)  0           ll_add_0[0][0]                   \n",
      "                                                                 ll_th_1[0][0]                    \n",
      "__________________________________________________________________________________________________\n",
      "concat_2 (Concatenate)          (None, 256, 256, 64) 0           ll_add_1[0][0]                   \n",
      "                                                                 ll_relu_1[0][0]                  \n",
      "__________________________________________________________________________________________________\n",
      "ll_relu_2 (Conv2D)              (None, 256, 256, 61) 35197       concat_2[0][0]                   \n",
      "__________________________________________________________________________________________________\n",
      "ll_th_2 (Conv2D)                (None, 256, 256, 3)  1650        ll_relu_2[0][0]                  \n",
      "__________________________________________________________________________________________________\n",
      "ll_add_2 (Add)                  (None, 256, 256, 3)  0           ll_add_1[0][0]                   \n",
      "                                                                 ll_th_2[0][0]                    \n",
      "__________________________________________________________________________________________________\n",
      "concat_3 (Concatenate)          (None, 256, 256, 64) 0           ll_add_2[0][0]                   \n",
      "                                                                 ll_relu_2[0][0]                  \n",
      "__________________________________________________________________________________________________\n",
      "ll_relu_3 (Conv2D)              (None, 256, 256, 61) 35197       concat_3[0][0]                   \n",
      "__________________________________________________________________________________________________\n",
      "ll_th_3 (Conv2D)                (None, 256, 256, 3)  1650        ll_relu_3[0][0]                  \n",
      "__________________________________________________________________________________________________\n",
      "ll_add_3 (Add)                  (None, 256, 256, 3)  0           ll_add_2[0][0]                   \n",
      "                                                                 ll_th_3[0][0]                    \n",
      "__________________________________________________________________________________________________\n",
      "concat_4 (Concatenate)          (None, 256, 256, 64) 0           ll_add_3[0][0]                   \n",
      "                                                                 ll_relu_3[0][0]                  \n",
      "__________________________________________________________________________________________________\n",
      "ll_relu_4 (Conv2D)              (None, 256, 256, 61) 35197       concat_4[0][0]                   \n",
      "__________________________________________________________________________________________________\n",
      "ll_th_4 (Conv2D)                (None, 256, 256, 3)  1650        ll_relu_4[0][0]                  \n",
      "__________________________________________________________________________________________________\n",
      "ll_add_4 (Add)                  (None, 256, 256, 3)  0           ll_add_3[0][0]                   \n",
      "                                                                 ll_th_4[0][0]                    \n",
      "__________________________________________________________________________________________________\n",
      "concat_5 (Concatenate)          (None, 256, 256, 64) 0           ll_add_4[0][0]                   \n",
      "                                                                 ll_relu_4[0][0]                  \n",
      "__________________________________________________________________________________________________\n",
      "ll_relu_5 (Conv2D)              (None, 256, 256, 61) 35197       concat_5[0][0]                   \n",
      "__________________________________________________________________________________________________\n",
      "ll_th_5 (Conv2D)                (None, 256, 256, 3)  1650        ll_relu_5[0][0]                  \n",
      "__________________________________________________________________________________________________\n",
      "ll_add_5 (Add)                  (None, 256, 256, 3)  0           ll_add_4[0][0]                   \n",
      "                                                                 ll_th_5[0][0]                    \n",
      "__________________________________________________________________________________________________\n",
      "concat_6 (Concatenate)          (None, 256, 256, 64) 0           ll_add_5[0][0]                   \n",
      "                                                                 ll_relu_5[0][0]                  \n",
      "__________________________________________________________________________________________________\n",
      "ll_relu_6 (Conv2D)              (None, 256, 256, 61) 35197       concat_6[0][0]                   \n",
      "__________________________________________________________________________________________________\n",
      "ll_th_6 (Conv2D)                (None, 256, 256, 3)  1650        ll_relu_6[0][0]                  \n",
      "__________________________________________________________________________________________________\n",
      "ll_add_6 (Add)                  (None, 256, 256, 3)  0           ll_add_5[0][0]                   \n",
      "                                                                 ll_th_6[0][0]                    \n",
      "__________________________________________________________________________________________________\n",
      "concat_7 (Concatenate)          (None, 256, 256, 64) 0           ll_add_6[0][0]                   \n",
      "                                                                 ll_relu_6[0][0]                  \n",
      "__________________________________________________________________________________________________\n",
      "ll_relu_7 (Conv2D)              (None, 256, 256, 61) 35197       concat_7[0][0]                   \n",
      "__________________________________________________________________________________________________\n",
      "ll_th_7 (Conv2D)                (None, 256, 256, 3)  1650        ll_relu_7[0][0]                  \n",
      "__________________________________________________________________________________________________\n",
      "ll_add_7 (Add)                  (None, 256, 256, 3)  0           ll_add_6[0][0]                   \n",
      "                                                                 ll_th_7[0][0]                    \n",
      "__________________________________________________________________________________________________\n",
      "concat_8 (Concatenate)          (None, 256, 256, 64) 0           ll_add_7[0][0]                   \n",
      "                                                                 ll_relu_7[0][0]                  \n",
      "__________________________________________________________________________________________________\n",
      "ll_relu_8 (Conv2D)              (None, 256, 256, 61) 35197       concat_8[0][0]                   \n",
      "__________________________________________________________________________________________________\n",
      "ll_th_8 (Conv2D)                (None, 256, 256, 3)  1650        ll_relu_8[0][0]                  \n",
      "__________________________________________________________________________________________________\n",
      "ll_add_8 (Add)                  (None, 256, 256, 3)  0           ll_add_7[0][0]                   \n",
      "                                                                 ll_th_8[0][0]                    \n",
      "__________________________________________________________________________________________________\n",
      "concat_9 (Concatenate)          (None, 256, 256, 64) 0           ll_add_8[0][0]                   \n",
      "                                                                 ll_relu_8[0][0]                  \n",
      "__________________________________________________________________________________________________\n",
      "ll_relu_9 (Conv2D)              (None, 256, 256, 61) 35197       concat_9[0][0]                   \n",
      "__________________________________________________________________________________________________\n",
      "hl_conv_0 (Conv2D)              (None, 128, 128, 64) 35200       ll_relu_9[0][0]                  \n",
      "__________________________________________________________________________________________________\n",
      "hl_pool_0 (MaxPooling2D)        (None, 64, 64, 64)   0           hl_conv_0[0][0]                  \n",
      "__________________________________________________________________________________________________\n",
      "hl_conv_1 (Conv2D)              (None, 32, 32, 64)   36928       hl_pool_0[0][0]                  \n",
      "__________________________________________________________________________________________________\n",
      "hl_pool_1 (MaxPooling2D)        (None, 16, 16, 64)   0           hl_conv_1[0][0]                  \n",
      "__________________________________________________________________________________________________\n",
      "hl_conv_2 (Conv2D)              (None, 8, 8, 64)     36928       hl_pool_1[0][0]                  \n",
      "__________________________________________________________________________________________________\n",
      "hl_pool_2 (MaxPooling2D)        (None, 4, 4, 64)     0           hl_conv_2[0][0]                  \n",
      "__________________________________________________________________________________________________\n",
      "hl_conv_3 (Conv2D)              (None, 2, 2, 64)     36928       hl_pool_2[0][0]                  \n",
      "__________________________________________________________________________________________________\n",
      "hl_pool_3 (MaxPooling2D)        (None, 1, 1, 64)     0           hl_conv_3[0][0]                  \n",
      "__________________________________________________________________________________________________\n",
      "ll_th_9 (Conv2D)                (None, 256, 256, 3)  1650        ll_relu_9[0][0]                  \n",
      "__________________________________________________________________________________________________\n",
      "hl_glob_pool (GlobalAveragePool (None, 64)           0           hl_pool_3[0][0]                  \n",
      "__________________________________________________________________________________________________\n",
      "ll_add_9 (Add)                  (None, 256, 256, 3)  0           ll_add_8[0][0]                   \n",
      "                                                                 ll_th_9[0][0]                    \n",
      "__________________________________________________________________________________________________\n",
      "dense (Dense)                   (None, 30)           1950        hl_glob_pool[0][0]               \n",
      "__________________________________________________________________________________________________\n",
      "reshape_1 (Reshape)             (None, 65536, 3)     0           ll_add_9[0][0]                   \n",
      "__________________________________________________________________________________________________\n",
      "lambda4x4 (Lambda)              (None, 3, 4, 4)      0           dense[0][0]                      \n",
      "__________________________________________________________________________________________________\n",
      "lambda_addconst (Lambda)        (None, 65536, 4)     0           reshape_1[0][0]                  \n",
      "__________________________________________________________________________________________________\n",
      "lambda_bilinear (Lambda)        (None, 65536, 3)     0           lambda4x4[0][0]                  \n",
      "                                                                 lambda_addconst[0][0]            \n",
      "__________________________________________________________________________________________________\n",
      "reshape_2 (Reshape)             (None, 256, 256, 3)  0           lambda_bilinear[0][0]            \n",
      "==================================================================================================\n",
      "Total params: 482,915\n",
      "Trainable params: 482,915\n",
      "Non-trainable params: 0\n",
      "__________________________________________________________________________________________________\n"
     ]
    }
   ],
   "source": [
    "model.summary()"
   ]
  },
  {
   "cell_type": "markdown",
   "id": "7066635f",
   "metadata": {},
   "source": [
    "### Training"
   ]
  },
  {
   "cell_type": "code",
   "execution_count": 37,
   "id": "a0b81b1b",
   "metadata": {},
   "outputs": [],
   "source": [
    "model.compile(optimizer=tf.keras.optimizers.Adam(learning_rate=0.0001), loss=custom_loss_1,\n",
    "              metrics=[mean_psnr, mean_ssimL, mean_ssim])"
   ]
  },
  {
   "cell_type": "code",
   "execution_count": null,
   "id": "7c140769",
   "metadata": {},
   "outputs": [],
   "source": [
    "model_history = model.fit(datset.batch(8),\n",
    "                          epochs=4,\n",
    "                          validation_data=valset.batch(4))"
   ]
  },
  {
   "cell_type": "code",
   "execution_count": null,
   "id": "474f3616",
   "metadata": {},
   "outputs": [],
   "source": []
  },
  {
   "cell_type": "code",
   "execution_count": 105,
   "id": "4bc7badd",
   "metadata": {},
   "outputs": [],
   "source": [
    "heavycfg = model.to_json()"
   ]
  },
  {
   "cell_type": "code",
   "execution_count": 189,
   "id": "aa7ee0ef",
   "metadata": {},
   "outputs": [],
   "source": [
    "with open('model/heavy_256.json', 'w') as outfile:\n",
    "    json.dump(heavycfg, outfile)"
   ]
  },
  {
   "cell_type": "code",
   "execution_count": 190,
   "id": "89ea0824",
   "metadata": {},
   "outputs": [],
   "source": [
    "model.save_weights('model/heavy')"
   ]
  }
 ],
 "metadata": {
  "kernelspec": {
   "display_name": "Python 3 (ipykernel)",
   "language": "python",
   "name": "python3"
  },
  "language_info": {
   "codemirror_mode": {
    "name": "ipython",
    "version": 3
   },
   "file_extension": ".py",
   "mimetype": "text/x-python",
   "name": "python",
   "nbconvert_exporter": "python",
   "pygments_lexer": "ipython3",
   "version": "3.8.11"
  }
 },
 "nbformat": 4,
 "nbformat_minor": 5
}
